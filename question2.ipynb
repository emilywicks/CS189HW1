{
 "cells": [
  {
   "cell_type": "markdown",
   "metadata": {},
   "source": [
    "## README\n",
    "\n",
    "Emily Wicks \n",
    "\n",
    "SID: 3033056678\n",
    "\n",
    "Intrsuctions: Run all cells below, the code specific to each qestion is marked but previously defined functions may be used in later questions.  "
   ]
  },
  {
   "cell_type": "code",
   "execution_count": 287,
   "metadata": {},
   "outputs": [],
   "source": [
    "import numpy as np\n",
    "import matplotlib.pyplot as plt\n",
    "from sklearn import svm\n",
    "from scipy import io\n",
    "from sklearn.metrics import accuracy_score"
   ]
  },
  {
   "cell_type": "code",
   "execution_count": null,
   "metadata": {},
   "outputs": [],
   "source": []
  },
  {
   "cell_type": "markdown",
   "metadata": {},
   "source": [
    "## Question 2"
   ]
  },
  {
   "cell_type": "code",
   "execution_count": 282,
   "metadata": {},
   "outputs": [],
   "source": [
    "for data_name in [\"mnist\", \"spam\", \"cifar10\"]:\n",
    "    data = io.loadmat(\"data/%s_data.mat\" % data_name)"
   ]
  },
  {
   "cell_type": "code",
   "execution_count": null,
   "metadata": {},
   "outputs": [],
   "source": []
  },
  {
   "cell_type": "code",
   "execution_count": 40,
   "metadata": {},
   "outputs": [],
   "source": [
    "first = io.loadmat(\"data/mnist_data.mat\")"
   ]
  },
  {
   "cell_type": "code",
   "execution_count": 41,
   "metadata": {},
   "outputs": [],
   "source": [
    "second = io.loadmat(\"data/spam_data.mat\")"
   ]
  },
  {
   "cell_type": "code",
   "execution_count": 42,
   "metadata": {},
   "outputs": [],
   "source": [
    "third = io.loadmat(\"data/cifar10_data.mat\")"
   ]
  },
  {
   "cell_type": "code",
   "execution_count": 43,
   "metadata": {},
   "outputs": [
    {
     "data": {
      "text/plain": [
       "{'__header__': b'MATLAB 5.0 MAT-file Platform: posix, Created on: Tue Dec 18 20:13:05 2018',\n",
       " '__version__': '1.0',\n",
       " '__globals__': [],\n",
       " 'training_data': array([[0, 0, 0, ..., 0, 0, 0],\n",
       "        [0, 0, 0, ..., 0, 0, 0],\n",
       "        [0, 0, 0, ..., 0, 0, 0],\n",
       "        ...,\n",
       "        [0, 0, 0, ..., 0, 0, 0],\n",
       "        [0, 0, 0, ..., 0, 0, 0],\n",
       "        [0, 0, 0, ..., 0, 0, 0]], dtype=uint8),\n",
       " 'training_labels': array([[5],\n",
       "        [0],\n",
       "        [4],\n",
       "        ...,\n",
       "        [5],\n",
       "        [6],\n",
       "        [8]], dtype=uint8),\n",
       " 'test_data': array([[0, 0, 0, ..., 0, 0, 0],\n",
       "        [0, 0, 0, ..., 0, 0, 0],\n",
       "        [0, 0, 0, ..., 0, 0, 0],\n",
       "        ...,\n",
       "        [0, 0, 0, ..., 0, 0, 0],\n",
       "        [0, 0, 0, ..., 0, 0, 0],\n",
       "        [0, 0, 0, ..., 0, 0, 0]], dtype=uint8)}"
      ]
     },
     "execution_count": 43,
     "metadata": {},
     "output_type": "execute_result"
    }
   ],
   "source": [
    "first"
   ]
  },
  {
   "cell_type": "code",
   "execution_count": 44,
   "metadata": {},
   "outputs": [],
   "source": [
    "mnist_data = first['training_data']\n",
    "mnist_labels = first['training_labels']"
   ]
  },
  {
   "cell_type": "code",
   "execution_count": 45,
   "metadata": {},
   "outputs": [],
   "source": [
    "theset = set()"
   ]
  },
  {
   "cell_type": "code",
   "execution_count": 46,
   "metadata": {},
   "outputs": [],
   "source": [
    "while len(theset)<10000-1:\n",
    "    index = np.random.randint(0,len(mnist_data))\n",
    "    theset.add(index) "
   ]
  },
  {
   "cell_type": "code",
   "execution_count": 47,
   "metadata": {},
   "outputs": [],
   "source": [
    "mnist_val_data = []\n",
    "mnist_val_labels = []\n",
    "for i in theset:\n",
    "    mnist_val_data = mnist_val_data + [mnist_data[i]]\n",
    "    mnist_val_labels = mnist_val_labels + [mnist_labels[i]]"
   ]
  },
  {
   "cell_type": "code",
   "execution_count": 48,
   "metadata": {},
   "outputs": [],
   "source": [
    "totalmnist = set(np.arange(len(mnist_data)))"
   ]
  },
  {
   "cell_type": "code",
   "execution_count": 49,
   "metadata": {},
   "outputs": [],
   "source": [
    "testindex = totalmnist.difference(theset)\n",
    "\n",
    "mnist_train_data = [0]\n",
    "mnist_train_labels = [0]\n",
    "for i in testindex:\n",
    "    mnist_train_data = mnist_train_data + [mnist_data[i]]\n",
    "    mnist_train_labels = mnist_train_labels +[mnist_labels[i]]"
   ]
  },
  {
   "cell_type": "code",
   "execution_count": null,
   "metadata": {},
   "outputs": [],
   "source": []
  },
  {
   "cell_type": "code",
   "execution_count": 50,
   "metadata": {},
   "outputs": [],
   "source": [
    "spam_data = second['training_data']\n",
    "spam_labels = second['training_labels']"
   ]
  },
  {
   "cell_type": "code",
   "execution_count": 51,
   "metadata": {},
   "outputs": [],
   "source": [
    "theset2 = set()"
   ]
  },
  {
   "cell_type": "code",
   "execution_count": 52,
   "metadata": {},
   "outputs": [],
   "source": [
    "while len(theset2)<len(spam_data)*.2:\n",
    "    index = np.random.randint(0,len(spam_data))\n",
    "    theset2.add(index) "
   ]
  },
  {
   "cell_type": "code",
   "execution_count": 53,
   "metadata": {},
   "outputs": [],
   "source": [
    "spam_val_data = []\n",
    "spam_val_labels = []\n",
    "for i in theset2:\n",
    "    spam_val_data = spam_val_data + [spam_data[i]]\n",
    "    spam_val_labels = spam_val_labels + [spam_labels[i]]"
   ]
  },
  {
   "cell_type": "code",
   "execution_count": 54,
   "metadata": {},
   "outputs": [],
   "source": [
    "totalspam = set(np.arange(len(spam_data)))"
   ]
  },
  {
   "cell_type": "code",
   "execution_count": 55,
   "metadata": {},
   "outputs": [],
   "source": [
    "testindex2 = totalspam.difference(theset2)\n",
    "\n",
    "spam_train_data = []\n",
    "spam_train_labels = []\n",
    "for i in testindex2:\n",
    "    spam_train_data = spam_train_data + [spam_data[i]]\n",
    "    spam_train_labels = spam_train_labels +[spam_labels[i]]"
   ]
  },
  {
   "cell_type": "code",
   "execution_count": null,
   "metadata": {},
   "outputs": [],
   "source": []
  },
  {
   "cell_type": "code",
   "execution_count": 56,
   "metadata": {},
   "outputs": [],
   "source": [
    "cifar_data = third['training_data']\n",
    "cifar_labels = third['training_labels']"
   ]
  },
  {
   "cell_type": "code",
   "execution_count": 57,
   "metadata": {},
   "outputs": [],
   "source": [
    "theset3 = set()"
   ]
  },
  {
   "cell_type": "code",
   "execution_count": 58,
   "metadata": {},
   "outputs": [],
   "source": [
    "while len(theset3)<5000:\n",
    "    index = np.random.randint(0,len(cifar_data))\n",
    "    theset3.add(index) "
   ]
  },
  {
   "cell_type": "code",
   "execution_count": 59,
   "metadata": {},
   "outputs": [],
   "source": [
    "cifar_val_data = []\n",
    "cifar_val_labels = []\n",
    "for i in theset3:\n",
    "    cifar_val_data = cifar_val_data + [cifar_data[i]]\n",
    "    cifar_val_labels = cifar_val_labels + [cifar_labels[i]]"
   ]
  },
  {
   "cell_type": "code",
   "execution_count": 60,
   "metadata": {},
   "outputs": [],
   "source": [
    "totalcifar = set(np.arange(len(cifar_data)))"
   ]
  },
  {
   "cell_type": "code",
   "execution_count": 61,
   "metadata": {},
   "outputs": [],
   "source": [
    "testindex3 = totalcifar.difference(theset3)\n",
    "\n",
    "cifar_train_data = []\n",
    "cifar_train_labels = []\n",
    "for i in testindex3:\n",
    "    cifar_train_data = cifar_train_data + [cifar_data[i]]\n",
    "    cifar_train_labels = cifar_train_labels +[cifar_labels[i]]"
   ]
  },
  {
   "cell_type": "code",
   "execution_count": null,
   "metadata": {},
   "outputs": [],
   "source": []
  },
  {
   "cell_type": "markdown",
   "metadata": {},
   "source": [
    "## Question 3"
   ]
  },
  {
   "cell_type": "code",
   "execution_count": 62,
   "metadata": {},
   "outputs": [],
   "source": [
    "model = svm.SVC()"
   ]
  },
  {
   "cell_type": "code",
   "execution_count": 63,
   "metadata": {},
   "outputs": [],
   "source": [
    "def generatingfunc(n, data, labels):\n",
    "    aset = set()\n",
    "    while len(aset)<n:\n",
    "        index = np.random.randint(0,len(data))\n",
    "        aset.add(index)\n",
    "    _data = []\n",
    "    _labels = []\n",
    "    for i in aset:\n",
    "        _data = _data + [data[i]]\n",
    "        _labels = _labels + [labels[i][0]]\n",
    "    return _data , _labels"
   ]
  },
  {
   "cell_type": "code",
   "execution_count": 27,
   "metadata": {},
   "outputs": [],
   "source": [
    "mnist100d, mnist100l = generatingfunc(100, mnist_train_data, mnist_train_labels)"
   ]
  },
  {
   "cell_type": "code",
   "execution_count": 28,
   "metadata": {},
   "outputs": [],
   "source": [
    "mnistmodel = model.fit(mnist100d, mnist100l)"
   ]
  },
  {
   "cell_type": "code",
   "execution_count": 196,
   "metadata": {},
   "outputs": [],
   "source": [
    "mnist100predicted = model.predict(mnist_val_data)"
   ]
  },
  {
   "cell_type": "code",
   "execution_count": 197,
   "metadata": {},
   "outputs": [
    {
     "data": {
      "text/plain": [
       "0.6826682668266827"
      ]
     },
     "execution_count": 197,
     "metadata": {},
     "output_type": "execute_result"
    }
   ],
   "source": [
    "accuracy_score(mnist_val_labels, mnist100predicted)"
   ]
  },
  {
   "cell_type": "code",
   "execution_count": 371,
   "metadata": {},
   "outputs": [],
   "source": [
    "def finalmodel(n, data, labels, val_labels, val_data, c = 1):\n",
    "    model = svm.SVC(C = c)\n",
    "    a, b = generatingfunc(n, data, labels)\n",
    "    model = model.fit(a, b)\n",
    "    _predict = model.predict(val_data)\n",
    "    _accuracy  = accuracy_score(val_labels, _predict)\n",
    "    return model, _accuracy"
   ]
  },
  {
   "cell_type": "code",
   "execution_count": 212,
   "metadata": {},
   "outputs": [],
   "source": [
    "mnist200model, mnist200accuracy = finalmodel(200, mnist_train_data, mnist_train_labels, mnist_val_labels, mnist_val_data)\n",
    "\n"
   ]
  },
  {
   "cell_type": "code",
   "execution_count": 213,
   "metadata": {},
   "outputs": [
    {
     "data": {
      "text/plain": [
       "(SVC(C=1.0, break_ties=False, cache_size=200, class_weight=None, coef0=0.0,\n",
       "     decision_function_shape='ovr', degree=3, gamma='scale', kernel='rbf',\n",
       "     max_iter=-1, probability=False, random_state=None, shrinking=True,\n",
       "     tol=0.001, verbose=False), 0.8153815381538154)"
      ]
     },
     "execution_count": 213,
     "metadata": {},
     "output_type": "execute_result"
    }
   ],
   "source": [
    "mnist200model, mnist200accuracy"
   ]
  },
  {
   "cell_type": "code",
   "execution_count": 214,
   "metadata": {},
   "outputs": [],
   "source": [
    "mnist500model, mnist500accuracy = finalmodel(500, mnist_train_data, mnist_train_labels, mnist_val_labels, mnist_val_data)"
   ]
  },
  {
   "cell_type": "code",
   "execution_count": 215,
   "metadata": {},
   "outputs": [
    {
     "data": {
      "text/plain": [
       "(SVC(C=1.0, break_ties=False, cache_size=200, class_weight=None, coef0=0.0,\n",
       "     decision_function_shape='ovr', degree=3, gamma='scale', kernel='rbf',\n",
       "     max_iter=-1, probability=False, random_state=None, shrinking=True,\n",
       "     tol=0.001, verbose=False), 0.8840884088408841)"
      ]
     },
     "execution_count": 215,
     "metadata": {},
     "output_type": "execute_result"
    }
   ],
   "source": [
    "mnist500model, mnist500accuracy"
   ]
  },
  {
   "cell_type": "code",
   "execution_count": 396,
   "metadata": {},
   "outputs": [],
   "source": [
    "mnist_test_numbers = np.array([100,200,500,1000,2000,5000,10000])\n",
    "allmnistmodels = []\n",
    "allmnistaccuracy = []\n",
    "for i in mnist_test_numbers:\n",
    "    mnistmodel, mnistaccuracy = finalmodel(i, mnist_train_data, mnist_train_labels, mnist_val_labels, mnist_val_data)\n",
    "    allmnistmodels = allmnistmodels + [mnistmodel]\n",
    "    allmnistaccuracy = allmnistaccuracy + [mnistaccuracy]"
   ]
  },
  {
   "cell_type": "code",
   "execution_count": 397,
   "metadata": {},
   "outputs": [
    {
     "data": {
      "text/plain": [
       "[0.6210621062106211,\n",
       " 0.8240824082408241,\n",
       " 0.8737873787378738,\n",
       " 0.9091909190919092,\n",
       " 0.9267926792679267,\n",
       " 0.9490949094909491,\n",
       " 0.95999599959996]"
      ]
     },
     "execution_count": 397,
     "metadata": {},
     "output_type": "execute_result"
    }
   ],
   "source": [
    "allmnistaccuracy"
   ]
  },
  {
   "cell_type": "code",
   "execution_count": 433,
   "metadata": {},
   "outputs": [],
   "source": [
    "spam_test_numbers = np.array([100,200,500,1000,2000])\n",
    "allspammodels = []\n",
    "allspamaccuracy = []\n",
    "for i in spam_test_numbers:\n",
    "    spammodel, spamaccuracy = finalmodel(i, spam_train_data, spam_train_labels, spam_val_labels, spam_val_data)\n",
    "    allspammodels = allspammodels + [spammodel]\n",
    "    allspamaccuracy = allspamaccuracy + [spamaccuracy]"
   ]
  },
  {
   "cell_type": "code",
   "execution_count": 436,
   "metadata": {},
   "outputs": [
    {
     "ename": "KeyboardInterrupt",
     "evalue": "",
     "output_type": "error",
     "traceback": [
      "\u001b[0;31m---------------------------------------------------------------------------\u001b[0m",
      "\u001b[0;31mKeyboardInterrupt\u001b[0m                         Traceback (most recent call last)",
      "\u001b[0;32m<ipython-input-436-d0e14f51c3b2>\u001b[0m in \u001b[0;36m<module>\u001b[0;34m\u001b[0m\n\u001b[1;32m      3\u001b[0m \u001b[0motherspamaccuracies\u001b[0m \u001b[0;34m=\u001b[0m \u001b[0;34m[\u001b[0m\u001b[0;34m]\u001b[0m\u001b[0;34m\u001b[0m\u001b[0;34m\u001b[0m\u001b[0m\n\u001b[1;32m      4\u001b[0m \u001b[0;32mfor\u001b[0m \u001b[0mi\u001b[0m \u001b[0;32min\u001b[0m \u001b[0mhigh_test_numbers\u001b[0m\u001b[0;34m:\u001b[0m\u001b[0;34m\u001b[0m\u001b[0;34m\u001b[0m\u001b[0m\n\u001b[0;32m----> 5\u001b[0;31m     \u001b[0motherspammodel\u001b[0m\u001b[0;34m,\u001b[0m \u001b[0motherspamaccuracy\u001b[0m \u001b[0;34m=\u001b[0m \u001b[0mfinalmodel\u001b[0m\u001b[0;34m(\u001b[0m\u001b[0mi\u001b[0m\u001b[0;34m,\u001b[0m \u001b[0mspam_train_data\u001b[0m\u001b[0;34m,\u001b[0m \u001b[0mspam_train_labels\u001b[0m\u001b[0;34m,\u001b[0m \u001b[0mspam_val_labels\u001b[0m\u001b[0;34m,\u001b[0m \u001b[0mspam_val_data\u001b[0m\u001b[0;34m)\u001b[0m\u001b[0;34m\u001b[0m\u001b[0;34m\u001b[0m\u001b[0m\n\u001b[0m\u001b[1;32m      6\u001b[0m     \u001b[0motherspammodels\u001b[0m \u001b[0;34m=\u001b[0m \u001b[0motherspammodels\u001b[0m \u001b[0;34m+\u001b[0m\u001b[0;34m[\u001b[0m\u001b[0motherspammodel\u001b[0m\u001b[0;34m]\u001b[0m\u001b[0;34m\u001b[0m\u001b[0;34m\u001b[0m\u001b[0m\n\u001b[1;32m      7\u001b[0m     \u001b[0motherspamaccuracies\u001b[0m \u001b[0;34m=\u001b[0m \u001b[0motherspamaccuracies\u001b[0m \u001b[0;34m+\u001b[0m \u001b[0;34m[\u001b[0m\u001b[0motherspamaccuracy\u001b[0m\u001b[0;34m]\u001b[0m\u001b[0;34m\u001b[0m\u001b[0;34m\u001b[0m\u001b[0m\n",
      "\u001b[0;32m<ipython-input-371-3fe7d7f10823>\u001b[0m in \u001b[0;36mfinalmodel\u001b[0;34m(n, data, labels, val_labels, val_data, c)\u001b[0m\n\u001b[1;32m      1\u001b[0m \u001b[0;32mdef\u001b[0m \u001b[0mfinalmodel\u001b[0m\u001b[0;34m(\u001b[0m\u001b[0mn\u001b[0m\u001b[0;34m,\u001b[0m \u001b[0mdata\u001b[0m\u001b[0;34m,\u001b[0m \u001b[0mlabels\u001b[0m\u001b[0;34m,\u001b[0m \u001b[0mval_labels\u001b[0m\u001b[0;34m,\u001b[0m \u001b[0mval_data\u001b[0m\u001b[0;34m,\u001b[0m \u001b[0mc\u001b[0m \u001b[0;34m=\u001b[0m \u001b[0;36m1\u001b[0m\u001b[0;34m)\u001b[0m\u001b[0;34m:\u001b[0m\u001b[0;34m\u001b[0m\u001b[0;34m\u001b[0m\u001b[0m\n\u001b[1;32m      2\u001b[0m     \u001b[0mmodel\u001b[0m \u001b[0;34m=\u001b[0m \u001b[0msvm\u001b[0m\u001b[0;34m.\u001b[0m\u001b[0mSVC\u001b[0m\u001b[0;34m(\u001b[0m\u001b[0mC\u001b[0m \u001b[0;34m=\u001b[0m \u001b[0mc\u001b[0m\u001b[0;34m)\u001b[0m\u001b[0;34m\u001b[0m\u001b[0;34m\u001b[0m\u001b[0m\n\u001b[0;32m----> 3\u001b[0;31m     \u001b[0ma\u001b[0m\u001b[0;34m,\u001b[0m \u001b[0mb\u001b[0m \u001b[0;34m=\u001b[0m \u001b[0mgeneratingfunc\u001b[0m\u001b[0;34m(\u001b[0m\u001b[0mn\u001b[0m\u001b[0;34m,\u001b[0m \u001b[0mdata\u001b[0m\u001b[0;34m,\u001b[0m \u001b[0mlabels\u001b[0m\u001b[0;34m)\u001b[0m\u001b[0;34m\u001b[0m\u001b[0;34m\u001b[0m\u001b[0m\n\u001b[0m\u001b[1;32m      4\u001b[0m     \u001b[0mmodel\u001b[0m \u001b[0;34m=\u001b[0m \u001b[0mmodel\u001b[0m\u001b[0;34m.\u001b[0m\u001b[0mfit\u001b[0m\u001b[0;34m(\u001b[0m\u001b[0ma\u001b[0m\u001b[0;34m,\u001b[0m \u001b[0mb\u001b[0m\u001b[0;34m)\u001b[0m\u001b[0;34m\u001b[0m\u001b[0;34m\u001b[0m\u001b[0m\n\u001b[1;32m      5\u001b[0m     \u001b[0m_predict\u001b[0m \u001b[0;34m=\u001b[0m \u001b[0mmodel\u001b[0m\u001b[0;34m.\u001b[0m\u001b[0mpredict\u001b[0m\u001b[0;34m(\u001b[0m\u001b[0mval_data\u001b[0m\u001b[0;34m)\u001b[0m\u001b[0;34m\u001b[0m\u001b[0;34m\u001b[0m\u001b[0m\n",
      "\u001b[0;32m<ipython-input-63-05a7de25957b>\u001b[0m in \u001b[0;36mgeneratingfunc\u001b[0;34m(n, data, labels)\u001b[0m\n\u001b[1;32m      2\u001b[0m     \u001b[0maset\u001b[0m \u001b[0;34m=\u001b[0m \u001b[0mset\u001b[0m\u001b[0;34m(\u001b[0m\u001b[0;34m)\u001b[0m\u001b[0;34m\u001b[0m\u001b[0;34m\u001b[0m\u001b[0m\n\u001b[1;32m      3\u001b[0m     \u001b[0;32mwhile\u001b[0m \u001b[0mlen\u001b[0m\u001b[0;34m(\u001b[0m\u001b[0maset\u001b[0m\u001b[0;34m)\u001b[0m\u001b[0;34m<\u001b[0m\u001b[0mn\u001b[0m\u001b[0;34m:\u001b[0m\u001b[0;34m\u001b[0m\u001b[0;34m\u001b[0m\u001b[0m\n\u001b[0;32m----> 4\u001b[0;31m         \u001b[0mindex\u001b[0m \u001b[0;34m=\u001b[0m \u001b[0mnp\u001b[0m\u001b[0;34m.\u001b[0m\u001b[0mrandom\u001b[0m\u001b[0;34m.\u001b[0m\u001b[0mrandint\u001b[0m\u001b[0;34m(\u001b[0m\u001b[0;36m0\u001b[0m\u001b[0;34m,\u001b[0m\u001b[0mlen\u001b[0m\u001b[0;34m(\u001b[0m\u001b[0mdata\u001b[0m\u001b[0;34m)\u001b[0m\u001b[0;34m)\u001b[0m\u001b[0;34m\u001b[0m\u001b[0;34m\u001b[0m\u001b[0m\n\u001b[0m\u001b[1;32m      5\u001b[0m         \u001b[0maset\u001b[0m\u001b[0;34m.\u001b[0m\u001b[0madd\u001b[0m\u001b[0;34m(\u001b[0m\u001b[0mindex\u001b[0m\u001b[0;34m)\u001b[0m\u001b[0;34m\u001b[0m\u001b[0;34m\u001b[0m\u001b[0m\n\u001b[1;32m      6\u001b[0m     \u001b[0m_data\u001b[0m \u001b[0;34m=\u001b[0m \u001b[0;34m[\u001b[0m\u001b[0;34m]\u001b[0m\u001b[0;34m\u001b[0m\u001b[0;34m\u001b[0m\u001b[0m\n",
      "\u001b[0;31mKeyboardInterrupt\u001b[0m: "
     ]
    }
   ],
   "source": [
    "high_test_numbers = np.array([5000,len(spam_train_data)])\n",
    "otherspammodels = []\n",
    "otherspamaccuracies = []\n",
    "for i in high_test_numbers:\n",
    "    otherspammodel, otherspamaccuracy = finalmodel(i, spam_train_data, spam_train_labels, spam_val_labels, spam_val_data)\n",
    "    otherspammodels = otherspammodels +[otherspammodel]\n",
    "    otherspamaccuracies = otherspamaccuracies + [otherspamaccuracy]"
   ]
  },
  {
   "cell_type": "code",
   "execution_count": 434,
   "metadata": {},
   "outputs": [
    {
     "data": {
      "text/plain": [
       "[0.7246376811594203,\n",
       " 0.7545893719806763,\n",
       " 0.7091787439613526,\n",
       " 0.7371980676328502,\n",
       " 0.7681159420289855]"
      ]
     },
     "execution_count": 434,
     "metadata": {},
     "output_type": "execute_result"
    }
   ],
   "source": [
    "allspamaccuracy"
   ]
  },
  {
   "cell_type": "code",
   "execution_count": 425,
   "metadata": {},
   "outputs": [],
   "source": [
    "cifar_test_numbers = np.array([100,200,500,1000,2000,5000])\n",
    "allcifarmodels = []\n",
    "allcifaraccuracy = []\n",
    "for i in cifar_test_numbers:\n",
    "    cifarmodel, cifaraccuracy = finalmodel(i, cifar_train_data, cifar_train_labels, cifar_val_labels, cifar_val_data)\n",
    "    allcifarmodels = allcifarmodels + [cifarmodel]\n",
    "    allcifaraccuracy = allcifaraccuracy + [cifaraccuracy]"
   ]
  },
  {
   "cell_type": "code",
   "execution_count": 426,
   "metadata": {},
   "outputs": [
    {
     "data": {
      "text/plain": [
       "[0.205, 0.2074, 0.308, 0.3688, 0.3864, 0.4356]"
      ]
     },
     "execution_count": 426,
     "metadata": {},
     "output_type": "execute_result"
    }
   ],
   "source": [
    "allcifaraccuracy"
   ]
  },
  {
   "cell_type": "markdown",
   "metadata": {},
   "source": [
    "## Question 4"
   ]
  },
  {
   "cell_type": "code",
   "execution_count": 376,
   "metadata": {},
   "outputs": [],
   "source": [
    "def finalmodelwC10000(n, data, labels, val_labels, val_data):\n",
    "    model = svm.SVC(C=10000)\n",
    "    a, b = generatingfunc(n, data, labels)\n",
    "    model = model.fit(a, b)\n",
    "    _predict = model.predict(val_data)\n",
    "    _accuracy  = accuracy_score(val_labels, _predict)\n",
    "    return model, _accuracy"
   ]
  },
  {
   "cell_type": "code",
   "execution_count": 377,
   "metadata": {},
   "outputs": [],
   "source": [
    "mnistc10000 = finalmodelwC10000(10000, mnist_train_data, mnist_train_labels, mnist_val_labels, mnist_val_data)"
   ]
  },
  {
   "cell_type": "code",
   "execution_count": 378,
   "metadata": {},
   "outputs": [
    {
     "data": {
      "text/plain": [
       "(SVC(C=10000, break_ties=False, cache_size=200, class_weight=None, coef0=0.0,\n",
       "     decision_function_shape='ovr', degree=3, gamma='scale', kernel='rbf',\n",
       "     max_iter=-1, probability=False, random_state=None, shrinking=True,\n",
       "     tol=0.001, verbose=False), 0.9690969096909691)"
      ]
     },
     "execution_count": 378,
     "metadata": {},
     "output_type": "execute_result"
    }
   ],
   "source": [
    "mnistc10000"
   ]
  },
  {
   "cell_type": "code",
   "execution_count": 379,
   "metadata": {},
   "outputs": [],
   "source": [
    "def finalmodelwC1000(n, data, labels, val_labels, val_data):\n",
    "    model = svm.SVC(C=1000)\n",
    "    a, b = generatingfunc(n, data, labels)\n",
    "    model = model.fit(a, b)\n",
    "    _predict = model.predict(val_data)\n",
    "    _accuracy  = accuracy_score(val_labels, _predict)\n",
    "    return model, _accuracy"
   ]
  },
  {
   "cell_type": "code",
   "execution_count": 380,
   "metadata": {},
   "outputs": [],
   "source": [
    "mnistc10 = finalmodelwC1000(10000, mnist_train_data, mnist_train_labels, mnist_val_labels, mnist_val_data)"
   ]
  },
  {
   "cell_type": "code",
   "execution_count": 381,
   "metadata": {},
   "outputs": [
    {
     "data": {
      "text/plain": [
       "(SVC(C=1000, break_ties=False, cache_size=200, class_weight=None, coef0=0.0,\n",
       "     decision_function_shape='ovr', degree=3, gamma='scale', kernel='rbf',\n",
       "     max_iter=-1, probability=False, random_state=None, shrinking=True,\n",
       "     tol=0.001, verbose=False), 0.9656965696569657)"
      ]
     },
     "execution_count": 381,
     "metadata": {},
     "output_type": "execute_result"
    }
   ],
   "source": [
    "mnistc10"
   ]
  },
  {
   "cell_type": "code",
   "execution_count": null,
   "metadata": {},
   "outputs": [],
   "source": []
  },
  {
   "cell_type": "markdown",
   "metadata": {},
   "source": [
    "## Question 5"
   ]
  },
  {
   "cell_type": "code",
   "execution_count": 407,
   "metadata": {},
   "outputs": [],
   "source": [
    "\n",
    "def kfoldcrossval(data, data_labels, c):\n",
    "#partition into k sets\n",
    "    size = len(data)\n",
    "    indeces = np.arange(size)\n",
    "    np.random.shuffle(indeces)\n",
    "    shuffled_indeces = indeces.astype(int)\n",
    "\n",
    "    partition_indeces = np.array([shuffled_indeces[0: int(size/5)] ,shuffled_indeces[int(size/5):int(2*size/5)],shuffled_indeces[int(2*size/5):int(3*size/5)], shuffled_indeces[int(3*size/5):int(4*size/5)], shuffled_indeces[int(4*size/5):size]])\n",
    "    #use for loop to rotate through each partition as validation set\n",
    "    accuracies = []\n",
    "    allstuff = []\n",
    "    for i in range(5):\n",
    "        validation_indicies = partition_indeces[i]\n",
    "        train_indicies = np.array([])\n",
    "        for j in range(5):\n",
    "            if i != j:\n",
    "                train_indicies = np.append(train_indicies, partition_indeces[j])\n",
    "        data = np.array(data)\n",
    "        data_labels = np.array(data_labels)\n",
    "        t = train_indicies.astype(int)\n",
    "        v = validation_indicies.astype(int)\n",
    "        train_data = data[t]\n",
    "        train_labels = data_labels[t]\n",
    "        val_data = data[v]\n",
    "        val_labels = data_labels[v]\n",
    "        ac = finalmodel(len(train_data), train_data, train_labels, val_labels, val_data, c)\n",
    "        allstuff = allstuff + [ac]\n",
    "        accuracies = accuracies + [ac[1]]\n",
    "    return sum(accuracies)/5 , allstuff\n"
   ]
  },
  {
   "cell_type": "code",
   "execution_count": 437,
   "metadata": {},
   "outputs": [],
   "source": [
    "bestspam = kfoldcrossval(spam_data, spam_labels,10000)"
   ]
  },
  {
   "cell_type": "code",
   "execution_count": 438,
   "metadata": {},
   "outputs": [
    {
     "data": {
      "text/plain": [
       "(0.8306227866079855,\n",
       " [(SVC(C=10000, break_ties=False, cache_size=200, class_weight=None, coef0=0.0,\n",
       "       decision_function_shape='ovr', degree=3, gamma='scale', kernel='rbf',\n",
       "       max_iter=-1, probability=False, random_state=None, shrinking=True,\n",
       "       tol=0.001, verbose=False), 0.8143133462282398),\n",
       "  (SVC(C=10000, break_ties=False, cache_size=200, class_weight=None, coef0=0.0,\n",
       "       decision_function_shape='ovr', degree=3, gamma='scale', kernel='rbf',\n",
       "       max_iter=-1, probability=False, random_state=None, shrinking=True,\n",
       "       tol=0.001, verbose=False), 0.8384912959381045),\n",
       "  (SVC(C=10000, break_ties=False, cache_size=200, class_weight=None, coef0=0.0,\n",
       "       decision_function_shape='ovr', degree=3, gamma='scale', kernel='rbf',\n",
       "       max_iter=-1, probability=False, random_state=None, shrinking=True,\n",
       "       tol=0.001, verbose=False), 0.8434782608695652),\n",
       "  (SVC(C=10000, break_ties=False, cache_size=200, class_weight=None, coef0=0.0,\n",
       "       decision_function_shape='ovr', degree=3, gamma='scale', kernel='rbf',\n",
       "       max_iter=-1, probability=False, random_state=None, shrinking=True,\n",
       "       tol=0.001, verbose=False), 0.8201160541586073),\n",
       "  (SVC(C=10000, break_ties=False, cache_size=200, class_weight=None, coef0=0.0,\n",
       "       decision_function_shape='ovr', degree=3, gamma='scale', kernel='rbf',\n",
       "       max_iter=-1, probability=False, random_state=None, shrinking=True,\n",
       "       tol=0.001, verbose=False), 0.8367149758454107)])"
      ]
     },
     "execution_count": 438,
     "metadata": {},
     "output_type": "execute_result"
    }
   ],
   "source": [
    "bestspam"
   ]
  },
  {
   "cell_type": "code",
   "execution_count": 439,
   "metadata": {},
   "outputs": [],
   "source": [
    "spammodelbest = bestspam[1][2][0]"
   ]
  },
  {
   "cell_type": "code",
   "execution_count": 440,
   "metadata": {},
   "outputs": [
    {
     "data": {
      "text/plain": [
       "SVC(C=10000, break_ties=False, cache_size=200, class_weight=None, coef0=0.0,\n",
       "    decision_function_shape='ovr', degree=3, gamma='scale', kernel='rbf',\n",
       "    max_iter=-1, probability=False, random_state=None, shrinking=True,\n",
       "    tol=0.001, verbose=False)"
      ]
     },
     "execution_count": 440,
     "metadata": {},
     "output_type": "execute_result"
    }
   ],
   "source": [
    "spammodelbest"
   ]
  },
  {
   "cell_type": "markdown",
   "metadata": {},
   "source": [
    "## Question 6"
   ]
  },
  {
   "cell_type": "code",
   "execution_count": 402,
   "metadata": {},
   "outputs": [],
   "source": [
    "bestmnist = allmnistmodels[6]"
   ]
  },
  {
   "cell_type": "code",
   "execution_count": 417,
   "metadata": {},
   "outputs": [
    {
     "data": {
      "text/plain": [
       "SVC(C=1, break_ties=False, cache_size=200, class_weight=None, coef0=0.0,\n",
       "    decision_function_shape='ovr', degree=3, gamma='scale', kernel='rbf',\n",
       "    max_iter=-1, probability=False, random_state=None, shrinking=True,\n",
       "    tol=0.001, verbose=False)"
      ]
     },
     "execution_count": 417,
     "metadata": {},
     "output_type": "execute_result"
    }
   ],
   "source": [
    "bestmnist"
   ]
  },
  {
   "cell_type": "code",
   "execution_count": 403,
   "metadata": {},
   "outputs": [],
   "source": [
    "mnist = bestmnist.predict(first['test_data'])"
   ]
  },
  {
   "cell_type": "code",
   "execution_count": 404,
   "metadata": {},
   "outputs": [],
   "source": [
    "import pandas as pd"
   ]
  },
  {
   "cell_type": "code",
   "execution_count": 406,
   "metadata": {},
   "outputs": [],
   "source": [
    "pd.DataFrame({\"Category\":mnist, \"Id\": list(range(1, len(mnist)+1))}).to_csv(\"mnistpredictions.csv\")"
   ]
  },
  {
   "cell_type": "code",
   "execution_count": null,
   "metadata": {},
   "outputs": [],
   "source": []
  },
  {
   "cell_type": "code",
   "execution_count": 441,
   "metadata": {},
   "outputs": [],
   "source": [
    "spam = spammodelbest.predict(second['test_data'])"
   ]
  },
  {
   "cell_type": "code",
   "execution_count": 442,
   "metadata": {},
   "outputs": [],
   "source": [
    "pd.DataFrame({\"Category\":spam, \"Id\": list(range(1, len(spam)+1))}).to_csv(\"spampredictions.csv\")"
   ]
  },
  {
   "cell_type": "code",
   "execution_count": null,
   "metadata": {},
   "outputs": [],
   "source": []
  },
  {
   "cell_type": "code",
   "execution_count": 429,
   "metadata": {},
   "outputs": [],
   "source": [
    "bestcifar = allcifarmodels[5]"
   ]
  },
  {
   "cell_type": "code",
   "execution_count": 431,
   "metadata": {},
   "outputs": [],
   "source": [
    "cifar = bestcifar.predict(third['test_data'])"
   ]
  },
  {
   "cell_type": "code",
   "execution_count": 432,
   "metadata": {},
   "outputs": [],
   "source": [
    "pd.DataFrame({\"Category\":cifar, \"Id\": list(range(1, len(cifar)+1))}).to_csv(\"cifarpredictions.csv\")\n",
    "\n",
    "\n",
    "\n"
   ]
  },
  {
   "cell_type": "code",
   "execution_count": null,
   "metadata": {},
   "outputs": [],
   "source": []
  },
  {
   "cell_type": "code",
   "execution_count": null,
   "metadata": {},
   "outputs": [],
   "source": []
  },
  {
   "cell_type": "code",
   "execution_count": null,
   "metadata": {},
   "outputs": [],
   "source": []
  },
  {
   "cell_type": "code",
   "execution_count": null,
   "metadata": {},
   "outputs": [],
   "source": []
  }
 ],
 "metadata": {
  "kernelspec": {
   "display_name": "Python 3",
   "language": "python",
   "name": "python3"
  },
  "language_info": {
   "codemirror_mode": {
    "name": "ipython",
    "version": 3
   },
   "file_extension": ".py",
   "mimetype": "text/x-python",
   "name": "python",
   "nbconvert_exporter": "python",
   "pygments_lexer": "ipython3",
   "version": "3.7.4"
  }
 },
 "nbformat": 4,
 "nbformat_minor": 2
}
